{
 "cells": [
  {
   "cell_type": "code",
   "execution_count": 1,
   "metadata": {},
   "outputs": [],
   "source": [
    "#Assignment 4 - Yash Pratap Solanky"
   ]
  },
  {
   "cell_type": "code",
   "execution_count": 115,
   "metadata": {},
   "outputs": [],
   "source": [
    "# Question 1"
   ]
  },
  {
   "cell_type": "code",
   "execution_count": 116,
   "metadata": {},
   "outputs": [
    {
     "name": "stderr",
     "output_type": "stream",
     "text": [
      "[nltk_data] Downloading package sentiwordnet to\n",
      "[nltk_data]     C:\\Users\\yashp\\AppData\\Roaming\\nltk_data...\n",
      "[nltk_data]   Package sentiwordnet is already up-to-date!\n"
     ]
    }
   ],
   "source": [
    "import twitter\n",
    "import re\n",
    "import nltk\n",
    "from nltk.corpus import stopwords\n",
    "nltk.download('sentiwordnet')\n",
    "from nltk.corpus import sentiwordnet as swn \n",
    "from textblob import TextBlob\n",
    "from nltk.corpus import stopwords   # import stopwords \n"
   ]
  },
  {
   "cell_type": "code",
   "execution_count": 117,
   "metadata": {},
   "outputs": [],
   "source": [
    "api = twitter.Api(consumer_key=\"JCFfR9gWgrW11uEzZH1mGjcDj\",consumer_secret=\"h92uuEE6bDINSW9Qn5gCFGIUL9vePNWd2RYIGith1RdWGHpUp3\",\n",
    "                  access_token_key=\"117112499-AiTV4C53XpMxdu6FzhmtRa4HSnh3ZRCjA2iE5pqD\",access_token_secret=\"WCTEvCYsadhqxmQSYbFdK3ee7kNBdjE0mhrv527XrN4ua\")"
   ]
  },
  {
   "cell_type": "code",
   "execution_count": 132,
   "metadata": {},
   "outputs": [
    {
     "data": {
      "text/plain": [
       "User(ID=117112499, ScreenName=yashpratap7)"
      ]
     },
     "execution_count": 132,
     "metadata": {},
     "output_type": "execute_result"
    }
   ],
   "source": [
    "api.VerifyCredentials()"
   ]
  },
  {
   "cell_type": "code",
   "execution_count": 133,
   "metadata": {},
   "outputs": [
    {
     "name": "stdout",
     "output_type": "stream",
     "text": [
      "{'created_at': 'Mon Oct 25 06:24:57 +0000 2021', 'id': 1452521545889243136, 'id_str': '1452521545889243136', 'text': 'RT @kdysource: #DOYOUNG sticker era https://t.co/0flF7Pwa0C', 'source': '<a href=\"http://twitter.com/#!/download/ipad\" rel=\"nofollow\">Twitter for iPad</a>', 'truncated': False, 'in_reply_to_status_id': None, 'in_reply_to_status_id_str': None, 'in_reply_to_user_id': None, 'in_reply_to_user_id_str': None, 'in_reply_to_screen_name': None, 'user': {'id': 1086146737037664256, 'id_str': '1086146737037664256', 'name': 'bleky', 'screen_name': 'llimdono', 'location': 'หัวใจนายเจโน่', 'url': 'https://youtu.be/QPUjV7epJqE', 'description': 'แก้วตาดวงใจ💖 JD:NM', 'translator_type': 'none', 'protected': False, 'verified': False, 'followers_count': 192, 'friends_count': 503, 'listed_count': 0, 'favourites_count': 3941, 'statuses_count': 22702, 'created_at': 'Fri Jan 18 06:22:16 +0000 2019', 'utc_offset': None, 'time_zone': None, 'geo_enabled': False, 'lang': None, 'contributors_enabled': False, 'is_translator': False, 'profile_background_color': 'F5F8FA', 'profile_background_image_url': '', 'profile_background_image_url_https': '', 'profile_background_tile': False, 'profile_link_color': '1DA1F2', 'profile_sidebar_border_color': 'C0DEED', 'profile_sidebar_fill_color': 'DDEEF6', 'profile_text_color': '333333', 'profile_use_background_image': True, 'profile_image_url': 'http://pbs.twimg.com/profile_images/1426227905810468867/bTyzpSXq_normal.jpg', 'profile_image_url_https': 'https://pbs.twimg.com/profile_images/1426227905810468867/bTyzpSXq_normal.jpg', 'profile_banner_url': 'https://pbs.twimg.com/profile_banners/1086146737037664256/1627030087', 'default_profile': True, 'default_profile_image': False, 'following': None, 'follow_request_sent': None, 'notifications': None, 'withheld_in_countries': []}, 'geo': None, 'coordinates': None, 'place': None, 'contributors': None, 'retweeted_status': {'created_at': 'Sun Oct 24 07:03:15 +0000 2021', 'id': 1452168793900269570, 'id_str': '1452168793900269570', 'text': '#DOYOUNG sticker era https://t.co/0flF7Pwa0C', 'source': '<a href=\"http://twitter.com/download/iphone\" rel=\"nofollow\">Twitter for iPhone</a>', 'truncated': False, 'in_reply_to_status_id': None, 'in_reply_to_status_id_str': None, 'in_reply_to_user_id': None, 'in_reply_to_user_id_str': None, 'in_reply_to_screen_name': None, 'user': {'id': 952330110681665536, 'id_str': '952330110681665536', 'name': 'ً', 'screen_name': 'kdysource', 'location': None, 'url': 'http://instagram.com/do0_nct', 'description': \"for nct's kim doyoung\", 'translator_type': 'none', 'protected': False, 'verified': False, 'followers_count': 54351, 'friends_count': 0, 'listed_count': 1096, 'favourites_count': 38, 'statuses_count': 2217, 'created_at': 'Sun Jan 14 00:02:46 +0000 2018', 'utc_offset': None, 'time_zone': None, 'geo_enabled': False, 'lang': None, 'contributors_enabled': False, 'is_translator': False, 'profile_background_color': '000000', 'profile_background_image_url': 'http://abs.twimg.com/images/themes/theme1/bg.png', 'profile_background_image_url_https': 'https://abs.twimg.com/images/themes/theme1/bg.png', 'profile_background_tile': False, 'profile_link_color': 'ABB8C2', 'profile_sidebar_border_color': '000000', 'profile_sidebar_fill_color': '000000', 'profile_text_color': '000000', 'profile_use_background_image': False, 'profile_image_url': 'http://pbs.twimg.com/profile_images/1409460837719232520/1oWuzI5V_normal.jpg', 'profile_image_url_https': 'https://pbs.twimg.com/profile_images/1409460837719232520/1oWuzI5V_normal.jpg', 'profile_banner_url': 'https://pbs.twimg.com/profile_banners/952330110681665536/1624876624', 'default_profile': False, 'default_profile_image': False, 'following': None, 'follow_request_sent': None, 'notifications': None, 'withheld_in_countries': []}, 'geo': None, 'coordinates': None, 'place': None, 'contributors': None, 'is_quote_status': False, 'quote_count': 134, 'reply_count': 6, 'retweet_count': 2338, 'favorite_count': 5711, 'entities': {'hashtags': [{'text': 'DOYOUNG', 'indices': [0, 8]}], 'urls': [], 'user_mentions': [], 'symbols': [], 'media': [{'id': 1452167946768322564, 'id_str': '1452167946768322564', 'indices': [21, 44], 'additional_media_info': {'monetizable': False}, 'media_url': 'http://pbs.twimg.com/ext_tw_video_thumb/1452167946768322564/pu/img/uewkoPsrZkKwCcF9.jpg', 'media_url_https': 'https://pbs.twimg.com/ext_tw_video_thumb/1452167946768322564/pu/img/uewkoPsrZkKwCcF9.jpg', 'url': 'https://t.co/0flF7Pwa0C', 'display_url': 'pic.twitter.com/0flF7Pwa0C', 'expanded_url': 'https://twitter.com/notkdysource/status/1452168215728058369/video/1', 'type': 'photo', 'sizes': {'thumb': {'w': 150, 'h': 150, 'resize': 'crop'}, 'small': {'w': 680, 'h': 680, 'resize': 'fit'}, 'medium': {'w': 720, 'h': 720, 'resize': 'fit'}, 'large': {'w': 720, 'h': 720, 'resize': 'fit'}}, 'source_status_id': 1452168215728058369, 'source_status_id_str': '1452168215728058369', 'source_user_id': 1428953107812143108, 'source_user_id_str': '1428953107812143108'}]}, 'extended_entities': {'media': [{'id': 1452167946768322564, 'id_str': '1452167946768322564', 'indices': [21, 44], 'additional_media_info': {'monetizable': False}, 'media_url': 'http://pbs.twimg.com/ext_tw_video_thumb/1452167946768322564/pu/img/uewkoPsrZkKwCcF9.jpg', 'media_url_https': 'https://pbs.twimg.com/ext_tw_video_thumb/1452167946768322564/pu/img/uewkoPsrZkKwCcF9.jpg', 'url': 'https://t.co/0flF7Pwa0C', 'display_url': 'pic.twitter.com/0flF7Pwa0C', 'expanded_url': 'https://twitter.com/notkdysource/status/1452168215728058369/video/1', 'type': 'video', 'video_info': {'aspect_ratio': [1, 1], 'duration_millis': 41002, 'variants': [{'bitrate': 1280000, 'content_type': 'video/mp4', 'url': 'https://video.twimg.com/ext_tw_video/1452167946768322564/pu/vid/720x720/Xc4Nq6vJ2nrf3WbJ.mp4?tag=12'}, {'content_type': 'application/x-mpegURL', 'url': 'https://video.twimg.com/ext_tw_video/1452167946768322564/pu/pl/gu_Pwf2N4nK6jDYi.m3u8?tag=12&container=fmp4'}, {'bitrate': 432000, 'content_type': 'video/mp4', 'url': 'https://video.twimg.com/ext_tw_video/1452167946768322564/pu/vid/320x320/5TjZslXL6Om2Qs3H.mp4?tag=12'}, {'bitrate': 832000, 'content_type': 'video/mp4', 'url': 'https://video.twimg.com/ext_tw_video/1452167946768322564/pu/vid/540x540/YmPJwANIJNKTZn63.mp4?tag=12'}]}, 'sizes': {'thumb': {'w': 150, 'h': 150, 'resize': 'crop'}, 'small': {'w': 680, 'h': 680, 'resize': 'fit'}, 'medium': {'w': 720, 'h': 720, 'resize': 'fit'}, 'large': {'w': 720, 'h': 720, 'resize': 'fit'}}, 'source_status_id': 1452168215728058369, 'source_status_id_str': '1452168215728058369', 'source_user_id': 1428953107812143108, 'source_user_id_str': '1428953107812143108'}]}, 'favorited': False, 'retweeted': False, 'possibly_sensitive': False, 'filter_level': 'low', 'lang': 'sv'}, 'is_quote_status': False, 'quote_count': 0, 'reply_count': 0, 'retweet_count': 0, 'favorite_count': 0, 'entities': {'hashtags': [{'text': 'DOYOUNG', 'indices': [15, 23]}], 'urls': [], 'user_mentions': [{'screen_name': 'kdysource', 'name': 'ً', 'id': 952330110681665536, 'id_str': '952330110681665536', 'indices': [3, 13]}], 'symbols': [], 'media': [{'id': 1452167946768322564, 'id_str': '1452167946768322564', 'indices': [36, 59], 'additional_media_info': {'monetizable': False}, 'media_url': 'http://pbs.twimg.com/ext_tw_video_thumb/1452167946768322564/pu/img/uewkoPsrZkKwCcF9.jpg', 'media_url_https': 'https://pbs.twimg.com/ext_tw_video_thumb/1452167946768322564/pu/img/uewkoPsrZkKwCcF9.jpg', 'url': 'https://t.co/0flF7Pwa0C', 'display_url': 'pic.twitter.com/0flF7Pwa0C', 'expanded_url': 'https://twitter.com/notkdysource/status/1452168215728058369/video/1', 'type': 'photo', 'sizes': {'thumb': {'w': 150, 'h': 150, 'resize': 'crop'}, 'small': {'w': 680, 'h': 680, 'resize': 'fit'}, 'medium': {'w': 720, 'h': 720, 'resize': 'fit'}, 'large': {'w': 720, 'h': 720, 'resize': 'fit'}}, 'source_status_id': 1452168215728058369, 'source_status_id_str': '1452168215728058369', 'source_user_id': 1428953107812143108, 'source_user_id_str': '1428953107812143108'}]}, 'extended_entities': {'media': [{'id': 1452167946768322564, 'id_str': '1452167946768322564', 'indices': [36, 59], 'additional_media_info': {'monetizable': False}, 'media_url': 'http://pbs.twimg.com/ext_tw_video_thumb/1452167946768322564/pu/img/uewkoPsrZkKwCcF9.jpg', 'media_url_https': 'https://pbs.twimg.com/ext_tw_video_thumb/1452167946768322564/pu/img/uewkoPsrZkKwCcF9.jpg', 'url': 'https://t.co/0flF7Pwa0C', 'display_url': 'pic.twitter.com/0flF7Pwa0C', 'expanded_url': 'https://twitter.com/notkdysource/status/1452168215728058369/video/1', 'type': 'video', 'video_info': {'aspect_ratio': [1, 1], 'duration_millis': 41002, 'variants': [{'bitrate': 1280000, 'content_type': 'video/mp4', 'url': 'https://video.twimg.com/ext_tw_video/1452167946768322564/pu/vid/720x720/Xc4Nq6vJ2nrf3WbJ.mp4?tag=12'}, {'content_type': 'application/x-mpegURL', 'url': 'https://video.twimg.com/ext_tw_video/1452167946768322564/pu/pl/gu_Pwf2N4nK6jDYi.m3u8?tag=12&container=fmp4'}, {'bitrate': 432000, 'content_type': 'video/mp4', 'url': 'https://video.twimg.com/ext_tw_video/1452167946768322564/pu/vid/320x320/5TjZslXL6Om2Qs3H.mp4?tag=12'}, {'bitrate': 832000, 'content_type': 'video/mp4', 'url': 'https://video.twimg.com/ext_tw_video/1452167946768322564/pu/vid/540x540/YmPJwANIJNKTZn63.mp4?tag=12'}]}, 'sizes': {'thumb': {'w': 150, 'h': 150, 'resize': 'crop'}, 'small': {'w': 680, 'h': 680, 'resize': 'fit'}, 'medium': {'w': 720, 'h': 720, 'resize': 'fit'}, 'large': {'w': 720, 'h': 720, 'resize': 'fit'}}, 'source_status_id': 1452168215728058369, 'source_status_id_str': '1452168215728058369', 'source_user_id': 1428953107812143108, 'source_user_id_str': '1428953107812143108'}]}, 'favorited': False, 'retweeted': False, 'possibly_sensitive': False, 'filter_level': 'low', 'lang': 'sv', 'timestamp_ms': '1635143097742'}\n"
     ]
    }
   ],
   "source": [
    "for tweet in api.GetStreamFilter(track='Bitcoin'):\n",
    "    print(tweet)\n",
    "    break"
   ]
  },
  {
   "cell_type": "code",
   "execution_count": 160,
   "metadata": {},
   "outputs": [
    {
     "name": "stdout",
     "output_type": "stream",
     "text": [
      "90\n",
      "{\"created_at\": \"Mon Oct 25 06:25:32 +0000 2021\", \"hashtags\": [{\"text\": \"bitcoin\"}], \"id\": 1452521690894848004, \"id_str\": \"1452521690894848004\", \"lang\": \"en\", \"retweet_count\": 3552, \"retweeted_status\": {\"created_at\": \"Sun Oct 24 09:31:29 +0000 2021\", \"favorite_count\": 19282, \"hashtags\": [{\"text\": \"bitcoin\"}], \"id\": 1452206099344547842, \"id_str\": \"1452206099344547842\", \"lang\": \"en\", \"media\": [{\"display_url\": \"pic.twitter.com/5QYkWjdgNv\", \"expanded_url\": \"https://twitter.com/100trillionUSD/status/1452206099344547842/photo/1\", \"id\": 1452206096437874692, \"media_url\": \"http://pbs.twimg.com/media/FCdFwCbWEAQgAcr.png\", \"media_url_https\": \"https://pbs.twimg.com/media/FCdFwCbWEAQgAcr.png\", \"sizes\": {\"large\": {\"h\": 991, \"resize\": \"fit\", \"w\": 1737}, \"medium\": {\"h\": 685, \"resize\": \"fit\", \"w\": 1200}, \"small\": {\"h\": 388, \"resize\": \"fit\", \"w\": 680}, \"thumb\": {\"h\": 150, \"resize\": \"crop\", \"w\": 150}}, \"type\": \"photo\", \"url\": \"https://t.co/5QYkWjdgNv\"}], \"retweet_count\": 3552, \"source\": \"<a href=\\\"http://twitter.com/download/android\\\" rel=\\\"nofollow\\\">Twitter for Android</a>\", \"text\": \"When #bitcoin is in all time high mode (color turns red), it usually stays in ATH mode (red) for a couple of months https://t.co/5QYkWjdgNv\", \"urls\": [], \"user\": {\"created_at\": \"Fri Oct 13 11:44:27 +0000 2017\", \"default_profile\": true, \"description\": \"#bitcoin\\n1PRoNLcWHzM8DuKpGE4YM9hb1PjSEnWRpn\\nNOT FINANCIAL ADVICE -\\nFOR INFORMATIONAL PURPOSES ONLY\\nhttps://t.co/Ry7rqPRR8t\", \"favourites_count\": 26513, \"followers_count\": 1195616, \"friends_count\": 193, \"id\": 918804624303382528, \"id_str\": \"918804624303382528\", \"listed_count\": 10100, \"location\": \"NOT FINANCIAL ADVICE\", \"name\": \"PlanB\", \"profile_background_color\": \"F5F8FA\", \"profile_banner_url\": \"https://pbs.twimg.com/profile_banners/918804624303382528/1601733353\", \"profile_image_url\": \"http://pbs.twimg.com/profile_images/1407223894600302594/gBUVNH89_normal.jpg\", \"profile_image_url_https\": \"https://pbs.twimg.com/profile_images/1407223894600302594/gBUVNH89_normal.jpg\", \"profile_link_color\": \"1DA1F2\", \"profile_sidebar_border_color\": \"C0DEED\", \"profile_sidebar_fill_color\": \"DDEEF6\", \"profile_text_color\": \"333333\", \"profile_use_background_image\": true, \"screen_name\": \"100trillionUSD\", \"statuses_count\": 8320, \"url\": \"https://t.co/spHf8WlkA2\", \"withheld_in_countries\": []}, \"user_mentions\": []}, \"source\": \"<a href=\\\"http://www.granitem3r.com\\\" rel=\\\"nofollow\\\">chat_demo</a>\", \"text\": \"RT @100trillionUSD: When #bitcoin is in all time high mode (color turns red), it usually stays in ATH mode (red) for a couple of months htt\\u2026\", \"urls\": [], \"user\": {\"created_at\": \"Thu Jan 25 21:31:31 +0000 2018\", \"default_profile\": true, \"favourites_count\": 442, \"followers_count\": 301, \"friends_count\": 90, \"id\": 956640700615090179, \"id_str\": \"956640700615090179\", \"listed_count\": 11, \"name\": \"Leo\", \"profile_background_color\": \"F5F8FA\", \"profile_banner_url\": \"https://pbs.twimg.com/profile_banners/956640700615090179/1605658170\", \"profile_image_url\": \"http://pbs.twimg.com/profile_images/1328852794288336899/G7gi6NHA_normal.jpg\", \"profile_image_url_https\": \"https://pbs.twimg.com/profile_images/1328852794288336899/G7gi6NHA_normal.jpg\", \"profile_link_color\": \"1DA1F2\", \"profile_sidebar_border_color\": \"C0DEED\", \"profile_sidebar_fill_color\": \"DDEEF6\", \"profile_text_color\": \"333333\", \"profile_use_background_image\": true, \"screen_name\": \"BtcBee\", \"statuses_count\": 61286, \"withheld_in_countries\": []}, \"user_mentions\": [{\"id\": 918804624303382528, \"id_str\": \"918804624303382528\", \"name\": \"PlanB\", \"screen_name\": \"100trillionUSD\"}]}\n"
     ]
    }
   ],
   "source": [
    "results = api.GetSearch(raw_query=\"q=Bitcoin%20&result_type=recent&count=100\")\n",
    "print(len(results))      # count the number of records returend by the query\n",
    "print(results[0])          # print and see an example one tweet instance."
   ]
  },
  {
   "cell_type": "code",
   "execution_count": 161,
   "metadata": {},
   "outputs": [],
   "source": [
    "punct_pattern = r'[^\\w\\s!?]'\n",
    "username_pattern = re.compile(\"@\\S+\")\n",
    "list_of_tweets = []"
   ]
  },
  {
   "cell_type": "code",
   "execution_count": 162,
   "metadata": {},
   "outputs": [],
   "source": [
    "for i in results:\n",
    "    eg = i.text\n",
    "    s = re.sub(\"'s\",\" is\",eg)\n",
    "    s = re.sub(username_pattern,'',s)\n",
    "    s = re.sub(punct_pattern,'',s)\n",
    "    #s = re.sub(\"'s\",\"is\",s)\n",
    "    s = re.sub(\"gud\",\"good\",s)\n",
    "    s = re.sub(\"lyf\",\"life\",s)\n",
    "    list_of_tweets.append(s)"
   ]
  },
  {
   "cell_type": "code",
   "execution_count": 163,
   "metadata": {},
   "outputs": [
    {
     "data": {
      "text/plain": [
       "'RT  When bitcoin is in all time high mode color turns red it usually stays in ATH mode red for a couple of months htt'"
      ]
     },
     "execution_count": 163,
     "metadata": {},
     "output_type": "execute_result"
    }
   ],
   "source": [
    "list_of_tweets[0]"
   ]
  },
  {
   "cell_type": "code",
   "execution_count": 164,
   "metadata": {
    "scrolled": true
   },
   "outputs": [],
   "source": [
    "tokenized_list = []\n",
    "for i in list_of_tweets:\n",
    "    tokens = nltk.tokenize.word_tokenize(i)\n",
    "    tokenized_list.append(tokens)"
   ]
  },
  {
   "cell_type": "code",
   "execution_count": 165,
   "metadata": {},
   "outputs": [
    {
     "data": {
      "text/plain": [
       "['RT',\n",
       " 'When',\n",
       " 'bitcoin',\n",
       " 'is',\n",
       " 'in',\n",
       " 'all',\n",
       " 'time',\n",
       " 'high',\n",
       " 'mode',\n",
       " 'color',\n",
       " 'turns',\n",
       " 'red',\n",
       " 'it',\n",
       " 'usually',\n",
       " 'stays',\n",
       " 'in',\n",
       " 'ATH',\n",
       " 'mode',\n",
       " 'red',\n",
       " 'for',\n",
       " 'a',\n",
       " 'couple',\n",
       " 'of',\n",
       " 'months',\n",
       " 'htt']"
      ]
     },
     "execution_count": 165,
     "metadata": {},
     "output_type": "execute_result"
    }
   ],
   "source": [
    "tokenized_list[0]"
   ]
  },
  {
   "cell_type": "code",
   "execution_count": 166,
   "metadata": {},
   "outputs": [],
   "source": [
    "# Question 2"
   ]
  },
  {
   "cell_type": "code",
   "execution_count": 167,
   "metadata": {},
   "outputs": [
    {
     "data": {
      "text/plain": [
       "['RT',\n",
       " 'When',\n",
       " 'bitcoin',\n",
       " 'is',\n",
       " 'in',\n",
       " 'all',\n",
       " 'time',\n",
       " 'high',\n",
       " 'mode',\n",
       " 'color',\n",
       " 'turns',\n",
       " 'red',\n",
       " 'it',\n",
       " 'usually',\n",
       " 'stays',\n",
       " 'in',\n",
       " 'ATH',\n",
       " 'mode',\n",
       " 'red',\n",
       " 'for',\n",
       " 'a',\n",
       " 'couple',\n",
       " 'of',\n",
       " 'months',\n",
       " 'htt']"
      ]
     },
     "execution_count": 167,
     "metadata": {},
     "output_type": "execute_result"
    }
   ],
   "source": [
    "for i in tokenized_list:\n",
    "    for j in i:\n",
    "        j = re.sub(\"#\\w+\",\" \",j) #Removing hashtags. But as we have already removed symbols in question 1, no hashtags are present.\n",
    "tokenized_list[0]"
   ]
  },
  {
   "cell_type": "code",
   "execution_count": 168,
   "metadata": {},
   "outputs": [],
   "source": [
    "stop = stopwords.words('english')   # initialize english stopwords\n",
    "\n",
    "final_list = []\n",
    "for words in tokenized_list:\n",
    "    temp_list = []\n",
    "    for word in words:\n",
    "        \n",
    "        if word not in stop:\n",
    "            temp_list.append(word)\n",
    "    final_list.append(temp_list)"
   ]
  },
  {
   "cell_type": "code",
   "execution_count": 169,
   "metadata": {
    "scrolled": true
   },
   "outputs": [
    {
     "data": {
      "text/plain": [
       "['RT',\n",
       " 'When',\n",
       " 'bitcoin',\n",
       " 'is',\n",
       " 'in',\n",
       " 'all',\n",
       " 'time',\n",
       " 'high',\n",
       " 'mode',\n",
       " 'color',\n",
       " 'turns',\n",
       " 'red',\n",
       " 'it',\n",
       " 'usually',\n",
       " 'stays',\n",
       " 'in',\n",
       " 'ATH',\n",
       " 'mode',\n",
       " 'red',\n",
       " 'for',\n",
       " 'a',\n",
       " 'couple',\n",
       " 'of',\n",
       " 'months',\n",
       " 'htt']"
      ]
     },
     "execution_count": 169,
     "metadata": {},
     "output_type": "execute_result"
    }
   ],
   "source": [
    "tokenized_list[0]"
   ]
  },
  {
   "cell_type": "code",
   "execution_count": 170,
   "metadata": {},
   "outputs": [
    {
     "data": {
      "text/plain": [
       "['RT',\n",
       " 'When',\n",
       " 'bitcoin',\n",
       " 'time',\n",
       " 'high',\n",
       " 'mode',\n",
       " 'color',\n",
       " 'turns',\n",
       " 'red',\n",
       " 'usually',\n",
       " 'stays',\n",
       " 'ATH',\n",
       " 'mode',\n",
       " 'red',\n",
       " 'couple',\n",
       " 'months',\n",
       " 'htt']"
      ]
     },
     "execution_count": 170,
     "metadata": {},
     "output_type": "execute_result"
    }
   ],
   "source": [
    "final_list[0] #After removing stop words"
   ]
  },
  {
   "cell_type": "code",
   "execution_count": 171,
   "metadata": {},
   "outputs": [
    {
     "name": "stdout",
     "output_type": "stream",
     "text": [
      "Sentiment(polarity=0.8125, subjectivity=0.44999999999999996)\n",
      "Sentiment(polarity=0.0, subjectivity=0.0)\n",
      "Sentiment(polarity=0.0, subjectivity=0.0)\n",
      "Sentiment(polarity=0.0, subjectivity=0.0)\n",
      "Sentiment(polarity=0.0, subjectivity=0.0)\n",
      "Sentiment(polarity=0.6333333333333333, subjectivity=0.6999999999999998)\n",
      "Sentiment(polarity=0.0, subjectivity=0.0)\n",
      "Sentiment(polarity=0.13333333333333336, subjectivity=0.7333333333333334)\n",
      "Sentiment(polarity=0.6500000000000001, subjectivity=0.775)\n",
      "Sentiment(polarity=0.0, subjectivity=0.0)\n",
      "Sentiment(polarity=0.0, subjectivity=0.0)\n",
      "Sentiment(polarity=0.0, subjectivity=0.0)\n",
      "Sentiment(polarity=0.0, subjectivity=0.0)\n",
      "Sentiment(polarity=0.5, subjectivity=0.9)\n",
      "Sentiment(polarity=0.2, subjectivity=0.30000000000000004)\n",
      "Sentiment(polarity=1.0, subjectivity=0.3)\n",
      "Sentiment(polarity=-0.5, subjectivity=0.29999999999999993)\n",
      "Sentiment(polarity=0.3333333333333333, subjectivity=0.5)\n",
      "Sentiment(polarity=0.0, subjectivity=0.0)\n",
      "Sentiment(polarity=0.0, subjectivity=0.0)\n",
      "Sentiment(polarity=0.3, subjectivity=0.1)\n",
      "Sentiment(polarity=0.0, subjectivity=0.0)\n",
      "Sentiment(polarity=0.0, subjectivity=0.0)\n",
      "Sentiment(polarity=0.0, subjectivity=0.0)\n",
      "Sentiment(polarity=-0.0625, subjectivity=0.6875)\n",
      "Sentiment(polarity=0.8, subjectivity=1.0)\n",
      "Sentiment(polarity=0.0, subjectivity=0.0)\n",
      "Sentiment(polarity=0.57125, subjectivity=0.6637500000000001)\n",
      "Sentiment(polarity=0.0, subjectivity=0.0)\n",
      "Sentiment(polarity=0.0, subjectivity=0.0)\n",
      "Sentiment(polarity=0.0, subjectivity=0.0)\n",
      "Sentiment(polarity=0.0, subjectivity=0.0)\n",
      "Sentiment(polarity=-0.1851851851851852, subjectivity=0.562962962962963)\n",
      "Sentiment(polarity=0.6375, subjectivity=0.55)\n",
      "Sentiment(polarity=0.0, subjectivity=0.0)\n",
      "Sentiment(polarity=0.0, subjectivity=0.0)\n",
      "Sentiment(polarity=0.0, subjectivity=0.0)\n",
      "Sentiment(polarity=0.13333333333333333, subjectivity=0.3)\n",
      "Sentiment(polarity=0.0, subjectivity=0.0)\n",
      "Sentiment(polarity=-0.0225, subjectivity=0.19749999999999998)\n",
      "Sentiment(polarity=-0.16944444444444443, subjectivity=0.4583333333333333)\n",
      "Sentiment(polarity=0.0, subjectivity=0.0)\n",
      "Sentiment(polarity=0.0, subjectivity=0.06666666666666667)\n",
      "Sentiment(polarity=0.4000000000000001, subjectivity=0.9)\n",
      "Sentiment(polarity=1.0, subjectivity=0.3)\n",
      "Sentiment(polarity=0.0, subjectivity=0.0)\n",
      "Sentiment(polarity=0.0, subjectivity=0.0)\n",
      "Sentiment(polarity=0.0, subjectivity=0.0)\n",
      "Sentiment(polarity=0.125, subjectivity=0.3125)\n",
      "Sentiment(polarity=0.0, subjectivity=0.0)\n",
      "Sentiment(polarity=0.13636363636363635, subjectivity=0.4772727272727273)\n",
      "Sentiment(polarity=0.15, subjectivity=0.575)\n",
      "Sentiment(polarity=0.48000000000000004, subjectivity=0.645)\n",
      "Sentiment(polarity=0.0, subjectivity=0.0)\n",
      "Sentiment(polarity=0.0, subjectivity=0.0)\n",
      "Sentiment(polarity=0.0, subjectivity=0.0)\n",
      "Sentiment(polarity=0.24545454545454545, subjectivity=0.21818181818181817)\n",
      "Sentiment(polarity=0.24545454545454545, subjectivity=0.21818181818181817)\n",
      "Sentiment(polarity=0.0, subjectivity=0.0)\n",
      "Sentiment(polarity=0.0, subjectivity=0.0)\n",
      "Sentiment(polarity=0.0, subjectivity=0.0)\n",
      "Sentiment(polarity=0.0, subjectivity=0.0)\n",
      "Sentiment(polarity=0.0, subjectivity=0.0)\n",
      "Sentiment(polarity=0.0, subjectivity=0.0)\n",
      "Sentiment(polarity=0.24545454545454545, subjectivity=0.21818181818181817)\n",
      "Sentiment(polarity=0.390625, subjectivity=0.5)\n",
      "Sentiment(polarity=0.0, subjectivity=0.6875)\n",
      "Sentiment(polarity=0.0, subjectivity=0.0)\n",
      "Sentiment(polarity=0.0, subjectivity=0.0)\n",
      "Sentiment(polarity=0.7, subjectivity=0.6000000000000001)\n",
      "Sentiment(polarity=0.0, subjectivity=0.0)\n",
      "Sentiment(polarity=0.0, subjectivity=0.55)\n",
      "Sentiment(polarity=0.22499999999999998, subjectivity=0.42500000000000004)\n",
      "Sentiment(polarity=1.0, subjectivity=0.3)\n",
      "Sentiment(polarity=0.0, subjectivity=0.7000000000000001)\n",
      "Sentiment(polarity=0.0, subjectivity=0.0)\n",
      "Sentiment(polarity=0.0, subjectivity=0.0)\n",
      "Sentiment(polarity=0.0, subjectivity=0.0)\n",
      "Sentiment(polarity=0.0, subjectivity=0.0)\n",
      "Sentiment(polarity=0.0, subjectivity=0.0)\n",
      "Sentiment(polarity=0.1, subjectivity=0.2)\n",
      "Sentiment(polarity=0.0, subjectivity=0.0)\n",
      "Sentiment(polarity=0.0, subjectivity=0.5)\n",
      "Sentiment(polarity=0.0, subjectivity=0.0)\n",
      "Sentiment(polarity=0.5, subjectivity=0.5)\n",
      "Sentiment(polarity=0.0, subjectivity=0.0)\n",
      "Sentiment(polarity=0.16666666666666666, subjectivity=0.3333333333333333)\n",
      "Sentiment(polarity=0.1, subjectivity=0.2)\n",
      "Sentiment(polarity=0.0, subjectivity=0.0)\n"
     ]
    }
   ],
   "source": [
    "for i in range(1,len(tokenized_list)):\n",
    "    a = TextBlob(' '.join(tokenized_list[i]))\n",
    "    print(a.sentiment)"
   ]
  }
 ],
 "metadata": {
  "kernelspec": {
   "display_name": "Python 3",
   "language": "python",
   "name": "python3"
  },
  "language_info": {
   "codemirror_mode": {
    "name": "ipython",
    "version": 3
   },
   "file_extension": ".py",
   "mimetype": "text/x-python",
   "name": "python",
   "nbconvert_exporter": "python",
   "pygments_lexer": "ipython3",
   "version": "3.8.3"
  }
 },
 "nbformat": 4,
 "nbformat_minor": 4
}
