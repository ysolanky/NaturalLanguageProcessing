{
 "cells": [
  {
   "cell_type": "code",
   "execution_count": 1,
   "metadata": {},
   "outputs": [],
   "source": [
    "#Assignment 1- Yash Pratap Solanky. "
   ]
  },
  {
   "cell_type": "code",
   "execution_count": null,
   "metadata": {},
   "outputs": [],
   "source": [
    "import re"
   ]
  },
  {
   "cell_type": "code",
   "execution_count": 106,
   "metadata": {},
   "outputs": [
    {
     "name": "stdout",
     "output_type": "stream",
     "text": [
      "list of matches:  ['casper', 'Jasper']\n"
     ]
    }
   ],
   "source": [
    "a= \"casper ,Jasper\"\n",
    "pattern=\".asper\"\n",
    "\n",
    "matches =re.findall(pattern, a)\n",
    "print(\"list of matches: \", matches)"
   ]
  },
  {
   "cell_type": "code",
   "execution_count": 107,
   "metadata": {},
   "outputs": [
    {
     "name": "stdout",
     "output_type": "stream",
     "text": [
      "list of matches:  ['hi', 'hiii', 'hiiiiiii']\n"
     ]
    }
   ],
   "source": [
    "a=  'hi ,hiii ,hiiiiiii'\n",
    "pattern=\"hi*\"\n",
    "\n",
    "matches =re.findall(pattern, a)\n",
    "print(\"list of matches: \", matches)"
   ]
  },
  {
   "cell_type": "code",
   "execution_count": 108,
   "metadata": {},
   "outputs": [
    {
     "name": "stdout",
     "output_type": "stream",
     "text": [
      "list of matches:  ['code', 'coding', 'coder']\n"
     ]
    }
   ],
   "source": [
    "a = 'code,coding ,coder'\n",
    "pattern=\"cod\\w*\"\n",
    "\n",
    "matches =re.findall(pattern, a)\n",
    "print(\"list of matches: \", matches)"
   ]
  },
  {
   "cell_type": "code",
   "execution_count": 109,
   "metadata": {},
   "outputs": [
    {
     "name": "stdout",
     "output_type": "stream",
     "text": [
      "list of matches:  ['john is a happy man', 'john is a good man', 'john is a great man']\n"
     ]
    }
   ],
   "source": [
    "a = 'john is a happy man,john is a good man,john is a great man'\n",
    "pattern=\"john is a \\w* man\"\n",
    "\n",
    "matches =re.findall(pattern, a)\n",
    "print(\"list of matches: \", matches)"
   ]
  },
  {
   "cell_type": "code",
   "execution_count": 110,
   "metadata": {},
   "outputs": [
    {
     "name": "stdout",
     "output_type": "stream",
     "text": [
      "list of matches:  ['cat', 'rat', 'bat']\n"
     ]
    }
   ],
   "source": [
    "a = \"cat, rat, bat, sat ,mat\"\n",
    "pattern=\"[c,b,r]at\"\n",
    "\n",
    "matches =re.findall(pattern, a)\n",
    "print(\"list of matches: \", matches)"
   ]
  },
  {
   "cell_type": "code",
   "execution_count": 111,
   "metadata": {},
   "outputs": [
    {
     "name": "stdout",
     "output_type": "stream",
     "text": [
      "list of matches:  ['life is good', 'life is great', 'life is awesome']\n"
     ]
    }
   ],
   "source": [
    "a = 'life is good, life is great, life is awesome'\n",
    "pattern='life is \\w*'\n",
    "\n",
    "matches =re.findall(pattern, a)\n",
    "print(\"list of matches: \", matches)"
   ]
  },
  {
   "cell_type": "code",
   "execution_count": 47,
   "metadata": {},
   "outputs": [],
   "source": [
    "#Consider the given string : \" JAMES is always Confident, consistent and persistent the way he works.\"\n",
    "#a. Write a regular expression that would capture the qualities of JAMES in the sentence\n",
    "#b. Write a program that would capture and print these regular expressions\n",
    "#c. The program should also print the postions of the words in the sentence."
   ]
  },
  {
   "cell_type": "code",
   "execution_count": 118,
   "metadata": {},
   "outputs": [
    {
     "name": "stdout",
     "output_type": "stream",
     "text": [
      "positions:  17 : 26 Confident\n",
      "positions:  28 : 38 consistent\n",
      "positions:  43 : 53 persistent\n"
     ]
    }
   ],
   "source": [
    "a = \" JAMES is always Confident, consistent and persistent the way he works.\"\n",
    "pattern='\\w*ent'\n",
    "\n",
    "#matches =re.findall(pattern, a)\n",
    "#print(\"list of matches: \", matches)\n",
    "\n",
    "for match in  re.finditer(pattern, a):\n",
    "    start = match.start()\n",
    "    end = match.end()\n",
    "    print(\"positions: \", start, \":\", end, a[start:end])"
   ]
  },
  {
   "cell_type": "code",
   "execution_count": null,
   "metadata": {},
   "outputs": [],
   "source": []
  }
 ],
 "metadata": {
  "kernelspec": {
   "display_name": "Python 3",
   "language": "python",
   "name": "python3"
  },
  "language_info": {
   "codemirror_mode": {
    "name": "ipython",
    "version": 3
   },
   "file_extension": ".py",
   "mimetype": "text/x-python",
   "name": "python",
   "nbconvert_exporter": "python",
   "pygments_lexer": "ipython3",
   "version": "3.8.3"
  }
 },
 "nbformat": 4,
 "nbformat_minor": 4
}
